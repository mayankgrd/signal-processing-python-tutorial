{
 "metadata": {
  "name": ""
 },
 "nbformat": 3,
 "nbformat_minor": 0,
 "worksheets": [
  {
   "cells": [
    {
     "cell_type": "heading",
     "level": 1,
     "metadata": {},
     "source": [
      "Introduction to Signals and Systems using Python"
     ]
    },
    {
     "cell_type": "markdown",
     "metadata": {},
     "source": [
      "In this short tutorial, we will quickly go through some basic python programming concepts and signal processing constructs needed to get you started with the case studies. This tutorial assumes that you are somewhat familiar with Python (I asusme that you are familiar with lists and functions, but not classes and inheritence). You can brush up your Python skills by reading freely available online Python tutorial. We recommend https://developers.google.com/edu/python/lists?hl=en as it is short and sweet! \n",
      "\n",
      "## Python Lists\n",
      "In signal processing, we generally have large number of samples of some signals (e.g. audio signal samples) on which we want to apply some signal processing operator (e.g. convolution, Fourier Transform etc). Before we can apply any operator to our signal samples, we must first store it in memory. In Python, the standard way to store large number of samples in a variable is to use a list datatype, i.e. "
     ]
    },
    {
     "cell_type": "code",
     "collapsed": false,
     "input": [
      "signal = [2.0, 3.0, 1.0, 0.0, 2.0, 4.0]"
     ],
     "language": "python",
     "metadata": {},
     "outputs": [],
     "prompt_number": 1
    },
    {
     "cell_type": "code",
     "collapsed": false,
     "input": [
      "print signal"
     ],
     "language": "python",
     "metadata": {},
     "outputs": [
      {
       "output_type": "stream",
       "stream": "stdout",
       "text": [
        "[2.0, 3.0, 1.0, 0.0, 2.0, 4.0]\n"
       ]
      }
     ],
     "prompt_number": 2
    },
    {
     "cell_type": "markdown",
     "metadata": {},
     "source": [
      "### Indexing and slicing\n",
      "Python's **list** datatype is versatile and supports *indexing* to refer to some particular sample in the list. List indexing runs between $0$ and $N-1$, where $N$ is the length of the list. \n",
      "> Caution! This indexing rule is different from Matlab where indexing starts at $1$. \n",
      "\n",
      "Lists can be indexed from the end as well. Index $-1$ referes to the last element, index $-2$ second last and so on. \n",
      "\n",
      "List *slicing* can be used to extract subparts of a list, and store it in a new list variable. List slicing follow the general syntax *[start, stop, step=1]* to slice out elements from *start* to *stop-1* with a stride size of *step*. You can omit *start* and *stop* values, and  they will default to the beginning and end of the list respectively. Default value of *step* is $1$, and it can also be ommited. "
     ]
    },
    {
     "cell_type": "code",
     "collapsed": false,
     "input": [
      "print signal[0:3] # 0th, 1st and 2nd values"
     ],
     "language": "python",
     "metadata": {},
     "outputs": [
      {
       "output_type": "stream",
       "stream": "stdout",
       "text": [
        "[2.0, 3.0, 1.0]\n"
       ]
      }
     ],
     "prompt_number": 8
    },
    {
     "cell_type": "code",
     "collapsed": false,
     "input": [
      "sig2 = signal[:-2:] # from the start uptil -3rd element, drop last two samples\n",
      "print sig2"
     ],
     "language": "python",
     "metadata": {},
     "outputs": [
      {
       "output_type": "stream",
       "stream": "stdout",
       "text": [
        "[2.0, 3.0, 1.0, 0.0]\n"
       ]
      }
     ],
     "prompt_number": 10
    },
    {
     "cell_type": "code",
     "collapsed": false,
     "input": [
      "print signal[::2] # Every other element starting from the beginning "
     ],
     "language": "python",
     "metadata": {},
     "outputs": [
      {
       "output_type": "stream",
       "stream": "stdout",
       "text": [
        "[2.0, 1.0, 2.0]\n"
       ]
      }
     ],
     "prompt_number": 12
    },
    {
     "cell_type": "markdown",
     "metadata": {},
     "source": [
      "But, Python's lists have some limitations from signal processing perspective.  One prominant limitation is that you cannot apply functions like $\\sin$ or $\\exp$ directly on all the elements of a list without reverting back to a **for** loop construct. So, we will next learn about an N-dimensional array object provided by Python's **NumPy** library (http://www.numpy.org/). Numpy Ndarrays suit ideally for all our signal processing needs, and since they are build on top of Python's list, they support similar indexing and slicing operations, and have much more to offer.  \n",
      "\n",
      "Python's ability to perform signal processing and scientific computing is greatly inhanced by open source and freely available libraries like **NumPy**, **SciPy**, **Matplotlib** and **IPython** and we will have an opprtuinity to use all of them during the coarse of this tutorial. "
     ]
    },
    {
     "cell_type": "code",
     "collapsed": false,
     "input": [],
     "language": "python",
     "metadata": {},
     "outputs": []
    }
   ],
   "metadata": {}
  }
 ]
}