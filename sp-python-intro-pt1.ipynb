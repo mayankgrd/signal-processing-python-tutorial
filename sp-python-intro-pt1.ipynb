{
 "metadata": {
  "name": ""
 },
 "nbformat": 3,
 "nbformat_minor": 0,
 "worksheets": [
  {
   "cells": [
    {
     "cell_type": "heading",
     "level": 1,
     "metadata": {},
     "source": [
      "Introduction to Signals and Systems using Python (Part 1) "
     ]
    },
    {
     "cell_type": "markdown",
     "metadata": {},
     "source": [
      "In this short tutorial, we will quickly go through some basic python programming concepts and signal processing constructs needed to get you started with the case studies. This tutorial assumes that you are somewhat familiar with Python (I asusme that you are familiar with lists and functions, but not classes and inheritence). You can brush up your Python skills by reading freely available online Python tutorial. We recommend https://developers.google.com/edu/python/lists?hl=en as it is short and sweet! \n",
      "\n",
      "## Python Lists\n",
      "In signal processing, we generally have large number of samples of some signals (e.g. audio signal samples) on which we want to apply some signal processing operator (e.g. convolution, Fourier Transform etc). Before we can apply any operator to our signal samples, we must first store it in memory. In Python, the standard way to store large number of samples in a variable is to use a list datatype, i.e. "
     ]
    },
    {
     "cell_type": "code",
     "collapsed": false,
     "input": [
      "signal = [2.0, 3.0, 1.0, 0.0, 2.0, 4.0]"
     ],
     "language": "python",
     "metadata": {},
     "outputs": [],
     "prompt_number": 8
    },
    {
     "cell_type": "code",
     "collapsed": false,
     "input": [
      "print signal"
     ],
     "language": "python",
     "metadata": {},
     "outputs": [
      {
       "output_type": "stream",
       "stream": "stdout",
       "text": [
        "[2.0, 3.0, 1.0, 0.0, 2.0, 4.0]\n"
       ]
      }
     ],
     "prompt_number": 9
    },
    {
     "cell_type": "markdown",
     "metadata": {},
     "source": [
      "### Indexing and slicing\n",
      "Python's **list** datatype is versatile. It supports *indexing* to refer to some particular sample in the list. List index runs between $0$ and $N-1$, where $N$ is the length of the list. \n",
      "> Caution! This indexing rule is different from Matlab where indexing starts at $1$. \n",
      "\n",
      "Lists can be indexed from the end as well. Index $-1$ referes to the last element, index $-2$ second last and so on. \n",
      "\n",
      "List *slicing* can be used to extract subparts of a list, and store it in a new list variable. List slicing follow the general syntax *[start: stop: step=1]* to slice out elements from *start* to *stop-1* with a stride length of *step*. You can omit *start* and *stop* values, and  they will default to the beginning and end of the list respectively. Default value for *step* is $1$, and it can also be ommited. "
     ]
    },
    {
     "cell_type": "code",
     "collapsed": false,
     "input": [
      "print signal[0:3] # 0th, 1st and 2nd values"
     ],
     "language": "python",
     "metadata": {},
     "outputs": [
      {
       "output_type": "stream",
       "stream": "stdout",
       "text": [
        "[2.0, 3.0, 1.0]\n"
       ]
      }
     ],
     "prompt_number": 4
    },
    {
     "cell_type": "code",
     "collapsed": false,
     "input": [
      "sig2 = signal[:-2:] # from the start uptil -3rd element (i.e. drop last two samples)\n",
      "print sig2"
     ],
     "language": "python",
     "metadata": {},
     "outputs": [
      {
       "output_type": "stream",
       "stream": "stdout",
       "text": [
        "[2.0, 3.0, 1.0, 0.0]\n"
       ]
      }
     ],
     "prompt_number": 10
    },
    {
     "cell_type": "code",
     "collapsed": false,
     "input": [
      "print signal[::2] # Every other element starting from the beginning "
     ],
     "language": "python",
     "metadata": {},
     "outputs": [
      {
       "output_type": "stream",
       "stream": "stdout",
       "text": [
        "[2.0, 1.0, 2.0]\n"
       ]
      }
     ],
     "prompt_number": 6
    },
    {
     "cell_type": "markdown",
     "metadata": {},
     "source": [
      "### List comprehensions \n",
      "To create specific list sequence and do operations on lists, Python provide intuitive list comprehension statements which are much like the mathematical way of thinking about vectors or collection of samples. This can be best understood with few examples: \n",
      "\n",
      "$f[n] = 2n^3 + 3n -4 \\quad n \\in [0,10]$"
     ]
    },
    {
     "cell_type": "code",
     "collapsed": false,
     "input": [
      "lst1 = [2*n**3 + 3*n - 4 for n in range(11)]\n",
      "print lst1"
     ],
     "language": "python",
     "metadata": {},
     "outputs": [
      {
       "output_type": "stream",
       "stream": "stdout",
       "text": [
        "[-4, 1, 18, 59, 136, 261, 446, 703, 1044, 1481, 2026]\n"
       ]
      }
     ],
     "prompt_number": 10
    },
    {
     "cell_type": "markdown",
     "metadata": {},
     "source": [
      "So, list comprehensions go between square brackets $[...]$, similar to how we initialize list with specific numbers.  Then we specify the equation we want to evaluate in terms of our sequence variable (iterator) $n$, and finally we specify the range over which $n$ varies.\n",
      "\n",
      "The **range** is a builtin python function which is used to generate arithmetic sequence and its argument are:\n",
      "* **range**(*stop*)\n",
      "* **range**(*start, stop[, step=1]*)\n",
      "\n",
      "and as you probably might have already guessed that the *range$(N)$* generate sequence $0,1, \\ldots N-1$. \n",
      "\n",
      "Supposed, we want to apply some function (our favourite is $\\sin$) to our list, e.g. \n",
      "\n",
      "$$ \\begin{equation}\n",
      "f(n) = sin(2\\pi fn) \\quad n \\in [0,10] \n",
      "\\end{equation}$$\n"
     ]
    },
    {
     "cell_type": "code",
     "collapsed": false,
     "input": [
      "from math import pi, sin\n",
      "f = 0.2 # 1/5 Hz\n",
      "lst2 = [sin(2*pi*f*n) for n in range(10)]\n",
      "print lst2\n"
     ],
     "language": "python",
     "metadata": {},
     "outputs": [
      {
       "output_type": "stream",
       "stream": "stdout",
       "text": [
        "[0.0, 0.9510565162951535, 0.5877852522924732, -0.587785252292473, -0.9510565162951536, -2.4492935982947064e-16, 0.9510565162951535, 0.5877852522924734, -0.5877852522924728, -0.9510565162951538]\n"
       ]
      }
     ],
     "prompt_number": 11
    },
    {
     "cell_type": "markdown",
     "metadata": {},
     "source": [
      "But, Python's lists have some limitations from signal processing perspective.  One prominant limitation is that we cannot directl apply functions like $\\sin$ or $\\exp$ on all the elements of a list without using a  **for** loop list construct (as shown above) everytime. As, we will be working with large number of signal samples all the time, it would be much easier if we could directly use something like $\\sin$(lst1) to compute sine of all the elements in the list1.\n",
      "\n",
      "In the next part of this tutorial, you will learn about an N-dimensional array datatype defined in Python's **NumPy** library (http://www.numpy.org/) which provides the facility to perform operations directly on all the samples in the array, and the library also provides predefined linear algebra constructs like dot products, matrix multiplication and inversion which we will be using quite often. Numpy Ndarrays suit ideally for all our signal processing needs, and as they are similar to the native list datatypes, they support same indexing and slicing operations. We will use Ndarrays from now on to model our signals. \n",
      "\n",
      "Python's utility for signal processing and scientific computing is greatly inhanced by open source and freely available libraries like **NumPy**, **SciPy**, **Matplotlib** and **IPython** and we will have an opprtuinity to use some functionalities from all of these libraries to do our signal processing work. \n"
     ]
    },
    {
     "cell_type": "code",
     "collapsed": false,
     "input": [],
     "language": "python",
     "metadata": {},
     "outputs": []
    }
   ],
   "metadata": {}
  }
 ]
}