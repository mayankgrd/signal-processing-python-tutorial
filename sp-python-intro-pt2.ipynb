{
 "cells": [
  {
   "cell_type": "markdown",
   "metadata": {},
   "source": [
    "# Introduction to signal processing using Python (part 2)"
   ]
  },
  {
   "cell_type": "markdown",
   "metadata": {},
   "source": [
    "In this part, you will learn about numpy ndarrays (1D and 2D), few useful functions that numpy provides for arithmetic operations and linear algebra. In the next part, you will learn how to plot array of values using matplotlib. \n",
    "\n",
    "## Numpy arrays \n",
    "Numpy's ndarray data type provides the facility to define 1D, 2D or ND arrays easily in Python, and apply linear algebra and signal processing operator on them directly. Before we can use any of numpy facilities, we need to import it. It is a convention that we generally import numpy as np. "
   ]
  },
  {
   "cell_type": "code",
   "execution_count": 1,
   "metadata": {
    "collapsed": false
   },
   "outputs": [
    {
     "data": {
      "text/plain": [
       "array([2, 3, 5, 7, 0])"
      ]
     },
     "execution_count": 1,
     "metadata": {},
     "output_type": "execute_result"
    }
   ],
   "source": [
    "import numpy as np\n",
    "ar1 = np.array([2,3,5,7,0])\n",
    "ar1"
   ]
  },
  {
   "cell_type": "markdown",
   "metadata": {},
   "source": [
    "**array** is the basic function you can use to create numpy arrays, and you can pass it any python list you want to convert to numpy arrays. \n",
    "\n",
    " Numpy's **arange** function can be used to create equally spaced sequence (arithmetic sequences) similar to Python's in-built **range** function. The argument of the function is similar *$arange(start, stop, [step=1.0])$*. This function is really handy to create equally spaced time or frequency axis variables. "
   ]
  },
  {
   "cell_type": "code",
   "execution_count": 2,
   "metadata": {
    "collapsed": false
   },
   "outputs": [
    {
     "name": "stdout",
     "output_type": "stream",
     "text": [
      "[ 0.   0.2  0.4  0.6  0.8  1.   1.2  1.4  1.6  1.8  2.   2.2  2.4  2.6  2.8\n",
      "  3.   3.2  3.4  3.6  3.8]\n"
     ]
    }
   ],
   "source": [
    "ar2 = np.arange(0,4,0.2) # equally spaced sequence from 0 (included) to 4 (excluded) with 0.2 as step size\n",
    "print ar2"
   ]
  },
  {
   "cell_type": "markdown",
   "metadata": {},
   "source": [
    "Some other useful numpy functions are $np.zeros(shape)$ to create all zeros array, $np.ones(shape)$ to create all ones array, and $np.random.random(shape)$ to create array with entries drawn from a continuous uniform random variable in the range $[0,1)$."
   ]
  },
  {
   "cell_type": "code",
   "execution_count": 3,
   "metadata": {
    "collapsed": false
   },
   "outputs": [
    {
     "name": "stdout",
     "output_type": "stream",
     "text": [
      "[ 0.  0.  0.  0.  0.  0.]\n"
     ]
    }
   ],
   "source": [
    "ar3 = np.zeros(6)\n",
    "print ar3"
   ]
  },
  {
   "cell_type": "code",
   "execution_count": 4,
   "metadata": {
    "collapsed": false
   },
   "outputs": [
    {
     "name": "stdout",
     "output_type": "stream",
     "text": [
      "[ 1.  1.  1.  1.  1.  1.  1.  1.  1.  1.]\n"
     ]
    }
   ],
   "source": [
    "ar4 = np.ones(10)\n",
    "print ar4"
   ]
  },
  {
   "cell_type": "code",
   "execution_count": 5,
   "metadata": {
    "collapsed": false
   },
   "outputs": [
    {
     "data": {
      "text/plain": [
       "array([ 0.22640324,  0.79714013,  0.22416271,  0.01220034,  0.29890272,\n",
       "        0.17529934])"
      ]
     },
     "execution_count": 5,
     "metadata": {},
     "output_type": "execute_result"
    }
   ],
   "source": [
    "ar5 = np.random.random(6)\n",
    "ar5"
   ]
  },
  {
   "cell_type": "markdown",
   "metadata": {},
   "source": [
    "Some useful numpy array (ndarray) attributes are:\n",
    "1. ndarray.size: the total number of elements of the array\n",
    "2. ndarray.dtype: the datatype used to store numerical values "
   ]
  },
  {
   "cell_type": "code",
   "execution_count": 6,
   "metadata": {
    "collapsed": false
   },
   "outputs": [
    {
     "data": {
      "text/plain": [
       "6"
      ]
     },
     "execution_count": 6,
     "metadata": {},
     "output_type": "execute_result"
    }
   ],
   "source": [
    "ar5.size"
   ]
  },
  {
   "cell_type": "code",
   "execution_count": 7,
   "metadata": {
    "collapsed": false
   },
   "outputs": [
    {
     "data": {
      "text/plain": [
       "dtype('float64')"
      ]
     },
     "execution_count": 7,
     "metadata": {},
     "output_type": "execute_result"
    }
   ],
   "source": [
    "ar5.dtype"
   ]
  },
  {
   "cell_type": "markdown",
   "metadata": {},
   "source": [
    "## Basic numpy operations \n",
    "You can use basic arithmetic operators $(+,-,*,/,\\%)$ on numpy arrays, and the operator will act naturally on all the elements of the array, e.g."
   ]
  },
  {
   "cell_type": "code",
   "execution_count": 8,
   "metadata": {
    "collapsed": false
   },
   "outputs": [
    {
     "name": "stdout",
     "output_type": "stream",
     "text": [
      "[  -4    1   18   59  136  261  446  703 1044 1481 2026]\n"
     ]
    }
   ],
   "source": [
    "n = np.arange(11)\n",
    "fn = 2*n**3 + 3*n - 4\n",
    "print fn"
   ]
  },
  {
   "cell_type": "markdown",
   "metadata": {},
   "source": [
    "Similarly, functions like $\\sin, \\cos, \\log, \\exp$ can all be applied directly on the numpy array object, and the function will naturally be applied to each element of the array to compute the output, e.g."
   ]
  },
  {
   "cell_type": "code",
   "execution_count": 9,
   "metadata": {
    "collapsed": true
   },
   "outputs": [],
   "source": [
    "t = np.arange(0,1,0.01)\n",
    "x = 5*np.sin(2*np.pi*t)"
   ]
  },
  {
   "cell_type": "markdown",
   "metadata": {},
   "source": [
    "And, you can directly now plot this sine wave signal using **matplotlib** library. We will discuss the details about plotting in the next part, but just to show how it can easily be done. "
   ]
  },
  {
   "cell_type": "code",
   "execution_count": 11,
   "metadata": {
    "collapsed": false
   },
   "outputs": [
    {
     "data": {
      "image/png": "[encoded data removed]",
      "text/plain": [
       "<matplotlib.figure.Figure at 0x7f66f127aad0>"
      ]
     },
     "metadata": {},
     "output_type": "display_data"
    }
   ],
   "source": [
    "import matplotlib.pyplot as plt\n",
    "%matplotlib inline\n",
    "plt.plot(t,x)\n",
    "plt.grid()\n",
    "plt.xlabel('Time (s)')\n",
    "plt.ylabel('Simple sine (1 Hz)')\n",
    "plt.show()"
   ]
  },
  {
   "cell_type": "markdown",
   "metadata": {},
   "source": [
    "And, you also have access to simple statistics functions "
   ]
  },
  {
   "cell_type": "code",
   "execution_count": 12,
   "metadata": {
    "collapsed": false
   },
   "outputs": [
    {
     "data": {
      "text/plain": [
       "1.0547118733938987e-17"
      ]
     },
     "execution_count": 12,
     "metadata": {},
     "output_type": "execute_result"
    }
   ],
   "source": [
    "np.mean(x) # should be close to 0. "
   ]
  },
  {
   "cell_type": "code",
   "execution_count": 13,
   "metadata": {
    "collapsed": false
   },
   "outputs": [
    {
     "data": {
      "text/plain": [
       "10.0"
      ]
     },
     "execution_count": 13,
     "metadata": {},
     "output_type": "execute_result"
    }
   ],
   "source": [
    "np.max(x) - np.min(x) # amplitude "
   ]
  },
  {
   "cell_type": "code",
   "execution_count": 14,
   "metadata": {
    "collapsed": false
   },
   "outputs": [
    {
     "data": {
      "text/plain": [
       "3.5355339059327378"
      ]
     },
     "execution_count": 14,
     "metadata": {},
     "output_type": "execute_result"
    }
   ],
   "source": [
    "np.std(x) # rms value "
   ]
  },
  {
   "cell_type": "markdown",
   "metadata": {},
   "source": [
    "## 2D numpy array (matrix)\n",
    "Till now, we have only looked at examples of 1D numpy arrays. But, numpy supports 2D arrays (or matrix) as well. A simple way to initialize a 2D array is to use $np.array$ function and pass it a list of lists, i.e. "
   ]
  },
  {
   "cell_type": "code",
   "execution_count": 15,
   "metadata": {
    "collapsed": false
   },
   "outputs": [
    {
     "data": {
      "text/plain": [
       "array([[3, 4, 1],\n",
       "       [3, 6, 1]])"
      ]
     },
     "execution_count": 15,
     "metadata": {},
     "output_type": "execute_result"
    }
   ],
   "source": [
    "mat1 = np.array([[3,4,1],[3,6,1]])\n",
    "mat1"
   ]
  },
  {
   "cell_type": "code",
   "execution_count": 16,
   "metadata": {
    "collapsed": false
   },
   "outputs": [
    {
     "data": {
      "text/plain": [
       "(2, 3)"
      ]
     },
     "execution_count": 16,
     "metadata": {},
     "output_type": "execute_result"
    }
   ],
   "source": [
    "mat1.shape # 1st dimension is number of rows, 2nd dimension is number of cols"
   ]
  },
  {
   "cell_type": "code",
   "execution_count": 17,
   "metadata": {
    "collapsed": false,
    "scrolled": true
   },
   "outputs": [
    {
     "data": {
      "text/plain": [
       "2"
      ]
     },
     "execution_count": 17,
     "metadata": {},
     "output_type": "execute_result"
    }
   ],
   "source": [
    "mat1.ndim "
   ]
  },
  {
   "cell_type": "markdown",
   "metadata": {},
   "source": [
    "You can also use other numpy functions like $np.zeros, np.ones$ and pass them the shape of the desired 2D array as a tuple, e.g. "
   ]
  },
  {
   "cell_type": "code",
   "execution_count": 18,
   "metadata": {
    "collapsed": false
   },
   "outputs": [
    {
     "data": {
      "text/plain": [
       "array([[ 1.,  1.,  1.],\n",
       "       [ 1.,  1.,  1.],\n",
       "       [ 1.,  1.,  1.],\n",
       "       [ 1.,  1.,  1.]])"
      ]
     },
     "execution_count": 18,
     "metadata": {},
     "output_type": "execute_result"
    }
   ],
   "source": [
    "mat2 = np.ones((4,3))\n",
    "mat2"
   ]
  },
  {
   "cell_type": "code",
   "execution_count": 19,
   "metadata": {
    "collapsed": false
   },
   "outputs": [
    {
     "name": "stdout",
     "output_type": "stream",
     "text": [
      "[[ 0.49778352  0.90428558  0.9687496 ]\n",
      " [ 0.60509127  0.71501845  0.8044073 ]\n",
      " [ 0.83594636  0.02938927  0.63760419]\n",
      " [ 0.87574164  0.15174044  0.46352127]]\n"
     ]
    }
   ],
   "source": [
    "mat3 = np.random.random(mat2.shape)\n",
    "print mat3"
   ]
  },
  {
   "cell_type": "markdown",
   "metadata": {},
   "source": [
    "Another useful way of creating 2D arrays is to use the $reshape$ attribute to change the shape of an ndarray, e.g."
   ]
  },
  {
   "cell_type": "code",
   "execution_count": 20,
   "metadata": {
    "collapsed": false
   },
   "outputs": [
    {
     "data": {
      "text/plain": [
       "array([[0, 1, 2, 3, 4],\n",
       "       [5, 6, 7, 8, 9]])"
      ]
     },
     "execution_count": 20,
     "metadata": {},
     "output_type": "execute_result"
    }
   ],
   "source": [
    "mat4 = np.arange(10).reshape((2,5))\n",
    "mat4"
   ]
  },
  {
   "cell_type": "markdown",
   "metadata": {},
   "source": [
    "But, you have to be careful that the dimension must match, i.e. $10=2\\times5$\n"
   ]
  },
  {
   "cell_type": "markdown",
   "metadata": {},
   "source": [
    "## Numpy indexing, slicing, and iterations\n",
    "\n",
    "Numpy indexing and slicing works similar to indexing and slicing in Python's list. Index in any dimension starts from $0$ and runs till $N-1$ where $N$ is the length of the array in that dimension. For slicing in any dimension, you can use $[start: stop: step=1]$. Thus, for 1D arrays you can simply use"
   ]
  },
  {
   "cell_type": "code",
   "execution_count": 69,
   "metadata": {
    "collapsed": false
   },
   "outputs": [
    {
     "data": {
      "text/plain": [
       "3"
      ]
     },
     "execution_count": 69,
     "metadata": {},
     "output_type": "execute_result"
    }
   ],
   "source": [
    "ar1 = np.array([0,2,5,1,6,3])\n",
    "ar1[-1] # Last element "
   ]
  },
  {
   "cell_type": "code",
   "execution_count": 67,
   "metadata": {
    "collapsed": false
   },
   "outputs": [
    {
     "data": {
      "text/plain": [
       "array([0, 5, 6])"
      ]
     },
     "execution_count": 67,
     "metadata": {},
     "output_type": "execute_result"
    }
   ],
   "source": [
    "ar1[0:5:2] # 0th, 2nd, 4th element. "
   ]
  },
  {
   "cell_type": "markdown",
   "metadata": {},
   "source": [
    "For N dimensional array, you need to specify the index or slicing for each dimension separated by commas. E.g. for 2D arrays, specify first the $0th$ dimension (row) index, then $1st$ dimension (column) index, i.e. "
   ]
  },
  {
   "cell_type": "code",
   "execution_count": 80,
   "metadata": {
    "collapsed": false
   },
   "outputs": [
    {
     "data": {
      "text/plain": [
       "14"
      ]
     },
     "execution_count": 80,
     "metadata": {},
     "output_type": "execute_result"
    }
   ],
   "source": [
    "ar2 = np.arange(15).reshape(3,5)\n",
    "ar2[2,4]"
   ]
  },
  {
   "cell_type": "code",
   "execution_count": 81,
   "metadata": {
    "collapsed": false
   },
   "outputs": [
    {
     "data": {
      "text/plain": [
       "array([[1, 2, 3],\n",
       "       [6, 7, 8]])"
      ]
     },
     "execution_count": 81,
     "metadata": {},
     "output_type": "execute_result"
    }
   ],
   "source": [
    "ar2[:2,1:4] # 0th, 2nd rsectionow, 1st, 2nd, 3rd column"
   ]
  },
  {
   "cell_type": "markdown",
   "metadata": {},
   "source": [
    "You can easily iterate over 2D arrays by thinking of them as list of lists, e.g."
   ]
  },
  {
   "cell_type": "code",
   "execution_count": 83,
   "metadata": {
    "collapsed": false
   },
   "outputs": [
    {
     "name": "stdout",
     "output_type": "stream",
     "text": [
      "[0 1 2 3 4]\n",
      "[5 6 7 8 9]\n",
      "[10 11 12 13 14]\n"
     ]
    }
   ],
   "source": [
    "for row in ar2: # 2D arrays are lists of lists (rows)\n",
    "    print row"
   ]
  },
  {
   "cell_type": "markdown",
   "metadata": {},
   "source": [
    "and if you want to iterate over each element of a 2D matrix, you can use "
   ]
  },
  {
   "cell_type": "code",
   "execution_count": 84,
   "metadata": {
    "collapsed": false
   },
   "outputs": [
    {
     "name": "stdout",
     "output_type": "stream",
     "text": [
      "0 1 2 3 4 5 6 7 8 9 10 11 12 13 14\n"
     ]
    }
   ],
   "source": [
    "for num in ar2.flat: # it flattens the 2D matrix to a 1D array \n",
    "    print num,"
   ]
  },
  {
   "cell_type": "markdown",
   "metadata": {},
   "source": [
    "> Caution! numpy makes a distinction between 1D arrays and 2D arrays, and so $np.zeros(3)$ is not same as $np.zeros((3,1))$, even when they appear same. To be precise numpy treats $np.zeros((3,1))$ as a column matrix. But, $np.zeros(3)$ is niether a column or a row matrix, it is just a 1D array, and so many matrix operations are not well defined for 1D numpy array.\n",
    "\n",
    "> We can convert any 1D numpy array to 2D row or column matrix easily as show below. This will be important for applying linear algebra routines correctly. "
   ]
  },
  {
   "cell_type": "code",
   "execution_count": 87,
   "metadata": {
    "collapsed": false
   },
   "outputs": [
    {
     "name": "stdout",
     "output_type": "stream",
     "text": [
      "[[ 0.]\n",
      " [ 0.]\n",
      " [ 0.]\n",
      " [ 0.]\n",
      " [ 0.]]\n",
      "[[ 0.  0.  0.  0.  0.]]\n"
     ]
    }
   ],
   "source": [
    "a = np.empty(5) # 1D array \n",
    "a_col_mat = a[:,np.newaxis] # Convert 1D array to 2D column matrix \n",
    "a_row_mat = a[np.newaxis,:] # Convert 1D array to 2D row matrix \n",
    "print a_col_mat \n",
    "print a_row_mat"
   ]
  },
  {
   "cell_type": "markdown",
   "metadata": {},
   "source": [
    "## Linear algebra operations \n",
    "Basic linear algebra operations are needed to effectively apply signal processing algorithms. Numpy provides support for key linear algebra functions. \n",
    "\n",
    "1. Dot product, matrix multiplication: $np.dot$ [Read Docs](http://docs.scipy.org/doc/numpy/reference/generated/numpy.dot.html#numpy.dot)\n",
    "2. Determinant: $np.linalg.det$ [Read Docs](http://docs.scipy.org/doc/numpy/reference/generated/numpy.linalg.det.html#numpy.linalg.det)\n",
    "3. Vector norm: $np.linalg.norm$ [Read Docs](http://docs.scipy.org/doc/numpy/reference/generated/numpy.linalg.norm.html#numpy.linalg.norm)\n",
    "4. Trace: $np.trace$ [Read docs](http://docs.scipy.org/doc/numpy/reference/generated/numpy.trace.html#numpy.trace)\n",
    "5. Matrix inverse: $np.linalg.inv$ [Read Docs](http://docs.scipy.org/doc/numpy/reference/generated/numpy.linalg.inv.html#numpy.linalg.inv) \n",
    "> Tip: You can type any Python / numpy function followed by a question mark (?) and press Enter to see the docs directly in the IPython terminal. "
   ]
  },
  {
   "cell_type": "markdown",
   "metadata": {},
   "source": [
    "By default, when you multiply two numpy matrix, it will compute an element-by-element multiplication (the dimension must match). To perform matrix multiplication, you have to use $np.dot$. While using $np.dot$, you have to ensure that the dimensions are aligned properly for a well-defined matrix multiplication, e.g. "
   ]
  },
  {
   "cell_type": "code",
   "execution_count": 90,
   "metadata": {
    "collapsed": false
   },
   "outputs": [
    {
     "name": "stdout",
     "output_type": "stream",
     "text": [
      "[[ 5.  5.]\n",
      " [ 5.  5.]\n",
      " [ 5.  5.]\n",
      " [ 5.  5.]] (4, 2)\n"
     ]
    }
   ],
   "source": [
    "mat1 = np.ones((4,5))\n",
    "mat2 = np.ones((5,2))\n",
    "mat3 = np.dot(mat1,mat2)\n",
    "print mat3, mat3.shape"
   ]
  },
  {
   "cell_type": "markdown",
   "metadata": {},
   "source": [
    "If the numpy arrays are 1D vectors, then $np.dot$ simply computes the inner product (without complex conjugate). \n",
    "\n",
    "Many times, you will want to apply an operator across just the rows or columns of a matrix, e.g. computing sum, of all column vectors in a 2D (N-D) matrix. For most of such functions, they accept an optional argument $axis$ whose value can be set to be $0$ to perform the operation across columns, to $1$ to perform operation across the rows, and to $N$ to perform operations across $N^{th}$ dimension. "
   ]
  },
  {
   "cell_type": "code",
   "execution_count": 101,
   "metadata": {
    "collapsed": false
   },
   "outputs": [
    {
     "name": "stdout",
     "output_type": "stream",
     "text": [
      "[[2 3 1]\n",
      " [2 1 0]\n",
      " [0 1 0]]\n",
      "Across Columns [4 5 1]\n",
      "Across Rows [6 3 1]\n"
     ]
    }
   ],
   "source": [
    "mat4 = np.array([[2,3,1],[2,1,0],[0,1,0]])\n",
    "sum_row = np.sum(mat4, axis=1) # across rows\n",
    "sum_col = np.sum(mat4, axis=0) # across columns \n",
    "print mat4\n",
    "print \"Across Columns\", sum_col\n",
    "print \"Across Rows\", sum_row"
   ]
  },
  {
   "cell_type": "markdown",
   "metadata": {
    "collapsed": true
   },
   "source": [
    "If you want to compute outer product between two 1D vectors, you can either use $np.outer$ or properly convert the vectors into row and column matrix (2D) and use $np.dot$, e.g."
   ]
  },
  {
   "cell_type": "code",
   "execution_count": 24,
   "metadata": {
    "collapsed": false,
    "scrolled": true
   },
   "outputs": [
    {
     "name": "stdout",
     "output_type": "stream",
     "text": [
      "[[-2. -1.  0.  1.  2.]\n",
      " [-2. -1.  0.  1.  2.]\n",
      " [-2. -1.  0.  1.  2.]\n",
      " [-2. -1.  0.  1.  2.]\n",
      " [-2. -1.  0.  1.  2.]] Using outer product\n",
      "[[-2. -1.  0.  1.  2.]\n",
      " [-2. -1.  0.  1.  2.]\n",
      " [-2. -1.  0.  1.  2.]\n",
      " [-2. -1.  0.  1.  2.]\n",
      " [-2. -1.  0.  1.  2.]] Using inner (dot) product\n"
     ]
    }
   ],
   "source": [
    "vec5 = np.ones(5)\n",
    "vec6 = np.linspace(-2,2,5)\n",
    "out1 = np.outer(vec5, vec6)\n",
    "mat5 = vec5[:,np.newaxis]\n",
    "mat6 = vec6[np.newaxis,:]\n",
    "out2 = np.dot(mat5,mat6)\n",
    "print out1, 'Using outer product'\n",
    "print out2, 'Using inner (dot) product'"
   ]
  },
  {
   "cell_type": "markdown",
   "metadata": {},
   "source": [
    "This is particularly useful in computing DFT matrix. "
   ]
  },
  {
   "cell_type": "code",
   "execution_count": null,
   "metadata": {
    "collapsed": true
   },
   "outputs": [],
   "source": []
  }
 ],
 "metadata": {
  "kernelspec": {
   "display_name": "Python 2",
   "language": "python",
   "name": "python2"
  },
  "language_info": {
   "codemirror_mode": {
    "name": "ipython",
    "version": 2
   },
   "file_extension": ".py",
   "mimetype": "text/x-python",
   "name": "python",
   "nbconvert_exporter": "python",
   "pygments_lexer": "ipython2",
   "version": "2.7.10"
  }
 },
 "nbformat": 4,
 "nbformat_minor": 0
}
